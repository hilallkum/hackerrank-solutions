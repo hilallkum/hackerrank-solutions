{
 "cells": [
  {
   "cell_type": "markdown",
   "metadata": {},
   "source": [
    "# Day 1 - Data Types\n",
    "Author: Hilal Tuana Kum\n",
    "\n",
    "### Task\n",
    "Complete the code in the editor below. The variables ***i,e,*** and ***s*** are already declared and initialized for you. You must:\n",
    "\n",
    "Declare ***3*** variables: one of type int, one of type double, and one of type String. \n",
    "\n",
    "Read ***3*** lines of input from stdin (according to the sequence given in the Input Format section below) and initialize your variables. \n",
    "\n",
    "Use the operator to perform the following operations: \n",
    "- Print the sum of ***i*** plus your int variable on a new line. \n",
    "- Print the sum of ***d*** plus your double variable to a scale of one decimal place on a new line. \n",
    "- Concatenate ***s*** with the string you read as input and print the result on a new line. \n",
    "\n",
    "### Note:\n",
    "If you are using a language that doesn't support using for string concatenation (e.g.: C), you can just print one variable immediately following the other on the same line. The string provided in your editor must be printed first, immediately followed by the string you read as input.\n",
    "\n",
    "### Input Format\n",
    "The first line contains an integer that you must sum with ***i***.\n",
    "\n",
    "The second line contains a double that you must sum with ***d***.\n",
    "\n",
    "The third line contains a string that you must concatenate with ***s***.\n",
    "\n",
    "### Output Format\n",
    "Print the sum of both integers on the first line, the sum of both doubles (scaled to ***1*** decimal place) on the second line, and then the two concatenated strings on the third line.\n",
    "\n",
    "### Sample Input\n",
    "    12\n",
    "    4.0\n",
    "    is the best place to learn and practice coding!\n",
    "\n",
    "### Sample Output\n",
    "    16\n",
    "    8.0\n",
    "    HackerRank is the best place to learn and practice coding!\n",
    "\n",
    "### Explanation\n",
    "When we sum the integers ***4*** and ***12***, we get the integer ***16***. When we sum the floating-point numbers ***4.0*** and ***4.0***, we get ***8.0***. When we concatenate HackerRank with is the best place to learn and practice coding!, we get HackerRank is the best place to learn and practice coding!.\n",
    "\n",
    "You will not pass this challenge if you attempt to assign the Sample Case values to your variables instead of following the instructions above and reading input from stdin."
   ]
  },
  {
   "cell_type": "code",
   "execution_count": 4,
   "metadata": {},
   "outputs": [
    {
     "name": "stdout",
     "output_type": "stream",
     "text": [
      "12\n",
      "4.0\n",
      "is the best place to learn and practice coding!\n",
      "16\n",
      "8.0\n",
      "HackerRank is the best place to learn and practice coding!\n"
     ]
    }
   ],
   "source": [
    "i = 4\n",
    "d = 4.0\n",
    "s = 'HackerRank '\n",
    "\n",
    "# Declare second integer, double, and String variables.\n",
    "# Read and save an integer, double, and String to your variables.\n",
    "# Print the sum of both integer variables on a new line.\n",
    "# Print the sum of the double variables on a new line.\n",
    "# Concatenate and print the String variables on a new line\n",
    "# The 's' variable above should be printed first.\n",
    "\n",
    "def data_types(i,d,s):\n",
    "    i2 = int(input())\n",
    "    d2 = float(input())\n",
    "    s2 = str(input())\n",
    "    \n",
    "    print(i + i2)\n",
    "    print(d + d2)\n",
    "    print(s + s2)\n",
    "data_types(i,d,s)\n"
   ]
  },
  {
   "cell_type": "code",
   "execution_count": null,
   "metadata": {},
   "outputs": [],
   "source": []
  }
 ],
 "metadata": {
  "kernelspec": {
   "display_name": "Python 3",
   "language": "python",
   "name": "python3"
  },
  "language_info": {
   "codemirror_mode": {
    "name": "ipython",
    "version": 3
   },
   "file_extension": ".py",
   "mimetype": "text/x-python",
   "name": "python",
   "nbconvert_exporter": "python",
   "pygments_lexer": "ipython3",
   "version": "3.8.3"
  }
 },
 "nbformat": 4,
 "nbformat_minor": 4
}
